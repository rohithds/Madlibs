{
  "nbformat": 4,
  "nbformat_minor": 0,
  "metadata": {
    "colab": {
      "provenance": []
    },
    "kernelspec": {
      "name": "python3",
      "display_name": "Python 3"
    },
    "language_info": {
      "name": "python"
    }
  },
  "cells": [
    {
      "cell_type": "code",
      "execution_count": 4,
      "metadata": {
        "colab": {
          "base_uri": "https://localhost:8080/"
        },
        "id": "f_7bxYurk1KW",
        "outputId": "50f971a2-87cf-4d2a-ae0f-40c67804a6c1"
      },
      "outputs": [
        {
          "output_type": "stream",
          "name": "stdout",
          "text": [
            "Welcome to the Mad Libs game!\n",
            "Fill in the blanks with the appropriate words.\n",
            "Enter an adjective: smart\n",
            "Enter a noun: Coder\n",
            "Enter a verb (past tense): was coding\n",
            "Enter an adverb: easily\n",
            "Enter a place: University\n",
            "Enter another noun: Tester\n",
            "Enter another adjective: ugly\n",
            "Enter another verb (present tense): laugh\n",
            "\n",
            "Here's your Mad Libs story:\n",
            "\n",
            "    Once upon a time, in a smart land, there was a Coder who loved to was coding easily.\n",
            "    One day, it decided to travel to University where it met a Tester.\n",
            "    The Tester was very ugly and told the Coder to laugh with it.\n",
            "    Together, they had the most amazing adventure!\n",
            "    \n"
          ]
        }
      ],
      "source": [
        "# Mad Libs Fill-In-The-Blank Game\n",
        "\n",
        "def mad_libs():\n",
        "    print(\"Welcome to the Mad Libs game!\\nFill in the blanks with the appropriate words.\")\n",
        "\n",
        "    # Collect user inputs for various word types\n",
        "    adjective1 = input(\"Enter an adjective: \")\n",
        "    noun1 = input(\"Enter a noun: \")\n",
        "    verb1 = input(\"Enter a verb (past tense): \")\n",
        "    adverb1 = input(\"Enter an adverb: \")\n",
        "    place = input(\"Enter a place: \")\n",
        "    noun2 = input(\"Enter another noun: \")\n",
        "    adjective2 = input(\"Enter another adjective: \")\n",
        "    verb2 = input(\"Enter another verb (present tense): \")\n",
        "\n",
        "    # Generate the Mad Libs story\n",
        "    story = f\"\"\"\n",
        "    Once upon a time, in a {adjective1} land, there was a {noun1} who loved to {verb1} {adverb1}.\n",
        "    One day, it decided to travel to {place} where it met a {noun2}.\n",
        "    The {noun2} was very {adjective2} and told the {noun1} to {verb2} with it.\n",
        "    Together, they had the most amazing adventure!\n",
        "    \"\"\"\n",
        "\n",
        "    # Output the Mad Libs story\n",
        "    print(\"\\nHere's your Mad Libs story:\")\n",
        "    print(story)\n",
        "\n",
        "# Run the game\n",
        "mad_libs()\n"
      ]
    }
  ]
}